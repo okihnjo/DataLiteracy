{
 "cells": [
  {
   "cell_type": "code",
   "execution_count": 60,
   "metadata": {},
   "outputs": [],
   "source": [
    "import pandas as pd\n",
    "import numpy as np\n",
    "import matplotlib.pyplot as plt\n",
    "import seaborn as sns\n",
    "from sklearn.metrics import r2_score, mean_squared_error\n",
    "from sklearn.linear_model import LinearRegression\n",
    "from sklearn.model_selection import train_test_split\n",
    "from tueplots import bundles"
   ]
  },
  {
   "cell_type": "code",
   "execution_count": 74,
   "metadata": {},
   "outputs": [
    {
     "data": {
      "text/plain": [
       "86"
      ]
     },
     "execution_count": 74,
     "metadata": {},
     "output_type": "execute_result"
    }
   ],
   "source": [
    "df = pd.read_csv(\"../../../Notes_Documents/Reutlingen/Mieten_Reutlingen.csv\", sep=\";\", encoding='unicode_escape', decimal=\",\")\n",
    "df.columns.size"
   ]
  },
  {
   "cell_type": "code",
   "execution_count": 73,
   "metadata": {},
   "outputs": [
    {
     "data": {
      "text/plain": [
       "6542"
      ]
     },
     "execution_count": 73,
     "metadata": {},
     "output_type": "execute_result"
    }
   ],
   "source": [
    "# df[df['kstn_miete_gesamt'] <= 700].shape\n",
    "# df['kstn_miete_gesamt'].median()\n",
    "\n",
    "len(df[\"oadr_u2\"]) - df[\"oadr_u2\"].isnull().sum()\n"
   ]
  },
  {
   "cell_type": "markdown",
   "metadata": {},
   "source": [
    "## In welchen Monaten werden am meisten Wohnungen online gestellt?"
   ]
  },
  {
   "cell_type": "code",
   "execution_count": 33,
   "metadata": {},
   "outputs": [
    {
     "data": {
      "image/png": "[encoded data removed]",
      "text/plain": [
       "<Figure size 1080x576 with 1 Axes>"
      ]
     },
     "metadata": {
      "needs_background": "light"
     },
     "output_type": "display_data"
    }
   ],
   "source": [
    "df['year'] = df['startdate'].str[:4] \n",
    "df[\"month\"] = pd.DatetimeIndex(df['startdate']).month\n",
    "monthly_counts = df.groupby(['year', 'month']).size().reset_index(name='count')\n",
    "\n",
    "plt.figure(figsize=(15, 8))\n",
    "plt.bar(monthly_counts.index, monthly_counts['count'], color='blue', alpha=0.7)\n",
    "\n",
    "plt.title('Number of Flats Listed Each Month Over 10 Years')\n",
    "plt.xlabel('Months')\n",
    "plt.ylabel('Number of Flats Listed')\n",
    "\n",
    "tick_positions = monthly_counts.index[::12] \n",
    "tick_labels = [f\"{year}-{month}\" for year, month in zip(monthly_counts['year'][tick_positions], monthly_counts['month'][tick_positions])]\n",
    "plt.xticks(tick_positions, tick_labels, ha='right')\n",
    "\n",
    "plt.show()\n",
    "\n",
    "#kde=True\n",
    "# sns.histplot(data=df, x=\"startdate\",bins=12)\n",
    "# plt.xticks(range(1, 13), ['Jan', 'Feb', 'Mar', 'Apr', 'May', 'Jun', 'Jul', 'Aug', 'Sep', 'Oct', 'Nov', 'Dec'])\n"
   ]
  },
  {
   "cell_type": "code",
   "execution_count": 75,
   "metadata": {},
   "outputs": [
    {
     "data": {
      "image/png": "[encoded data removed]",
      "text/plain": [
       "<Figure size 486x300.365 with 1 Axes>"
      ]
     },
     "metadata": {
      "needs_background": "light"
     },
     "output_type": "display_data"
    },
    {
     "data": {
      "text/html": [
       "<div>\n",
       "<style scoped>\n",
       "    .dataframe tbody tr th:only-of-type {\n",
       "        vertical-align: middle;\n",
       "    }\n",
       "\n",
       "    .dataframe tbody tr th {\n",
       "        vertical-align: top;\n",
       "    }\n",
       "\n",
       "    .dataframe thead th {\n",
       "        text-align: right;\n",
       "    }\n",
       "</style>\n",
       "<table border=\"1\" class=\"dataframe\">\n",
       "  <thead>\n",
       "    <tr style=\"text-align: right;\">\n",
       "      <th></th>\n",
       "      <th>month</th>\n",
       "      <th>total_count</th>\n",
       "      <th>difference</th>\n",
       "    </tr>\n",
       "  </thead>\n",
       "  <tbody>\n",
       "    <tr>\n",
       "      <th>0</th>\n",
       "      <td>1</td>\n",
       "      <td>917</td>\n",
       "      <td>83</td>\n",
       "    </tr>\n",
       "    <tr>\n",
       "      <th>1</th>\n",
       "      <td>2</td>\n",
       "      <td>886</td>\n",
       "      <td>18</td>\n",
       "    </tr>\n",
       "    <tr>\n",
       "      <th>2</th>\n",
       "      <td>3</td>\n",
       "      <td>901</td>\n",
       "      <td>24</td>\n",
       "    </tr>\n",
       "    <tr>\n",
       "      <th>3</th>\n",
       "      <td>4</td>\n",
       "      <td>859</td>\n",
       "      <td>-2</td>\n",
       "    </tr>\n",
       "    <tr>\n",
       "      <th>4</th>\n",
       "      <td>5</td>\n",
       "      <td>917</td>\n",
       "      <td>110</td>\n",
       "    </tr>\n",
       "    <tr>\n",
       "      <th>5</th>\n",
       "      <td>6</td>\n",
       "      <td>815</td>\n",
       "      <td>-2</td>\n",
       "    </tr>\n",
       "    <tr>\n",
       "      <th>6</th>\n",
       "      <td>7</td>\n",
       "      <td>1007</td>\n",
       "      <td>-21</td>\n",
       "    </tr>\n",
       "    <tr>\n",
       "      <th>7</th>\n",
       "      <td>8</td>\n",
       "      <td>770</td>\n",
       "      <td>-42</td>\n",
       "    </tr>\n",
       "    <tr>\n",
       "      <th>8</th>\n",
       "      <td>9</td>\n",
       "      <td>905</td>\n",
       "      <td>67</td>\n",
       "    </tr>\n",
       "    <tr>\n",
       "      <th>9</th>\n",
       "      <td>10</td>\n",
       "      <td>889</td>\n",
       "      <td>-86</td>\n",
       "    </tr>\n",
       "    <tr>\n",
       "      <th>10</th>\n",
       "      <td>11</td>\n",
       "      <td>846</td>\n",
       "      <td>-6</td>\n",
       "    </tr>\n",
       "    <tr>\n",
       "      <th>11</th>\n",
       "      <td>12</td>\n",
       "      <td>690</td>\n",
       "      <td>-71</td>\n",
       "    </tr>\n",
       "  </tbody>\n",
       "</table>\n",
       "</div>"
      ],
      "text/plain": [
       "    month  total_count  difference\n",
       "0       1          917          83\n",
       "1       2          886          18\n",
       "2       3          901          24\n",
       "3       4          859          -2\n",
       "4       5          917         110\n",
       "5       6          815          -2\n",
       "6       7         1007         -21\n",
       "7       8          770         -42\n",
       "8       9          905          67\n",
       "9      10          889         -86\n",
       "10     11          846          -6\n",
       "11     12          690         -71"
      ]
     },
     "execution_count": 75,
     "metadata": {},
     "output_type": "execute_result"
    }
   ],
   "source": [
    "df['year'] = df['startdate'].str[:4] \n",
    "df[\"month\"] = pd.DatetimeIndex(df['startdate']).month\n",
    "monthly_counts = df.groupby(['year', 'month']).size().reset_index(name='count')\n",
    "monthly_counts_summed = monthly_counts.groupby('month')['count'].sum().reset_index(name='total_count')\n",
    "\n",
    "df['year_removed'] = df['enddate'].str[:4]\n",
    "df[\"month_removed\"] = pd.DatetimeIndex(df['enddate']).month\n",
    "monthly_removed_counts = df.groupby(['year_removed', 'month_removed']).size().reset_index(name='removed_count')\n",
    "monthly_removed_counts_summed = monthly_removed_counts.groupby('month_removed')['removed_count'].sum().reset_index(name='total_removed_count')\n",
    "\n",
    "difference = monthly_counts_summed.copy()\n",
    "difference['difference'] = monthly_counts_summed['total_count'] - monthly_removed_counts_summed['total_removed_count']\n",
    "\n",
    "plt.rcParams.update(bundles.icml2022(column='full', nrows=2, ncols=2, usetex=False))\n",
    "fig, axs = plt.subplots(1, 1)\n",
    "\n",
    "#plt.figure(figsize=(15, 8))\n",
    "plt.bar(difference['month'], difference['difference'], color='blue', alpha=0.7, label='Added')\n",
    "\n",
    "plt.title('Total Number of Flats Listed and Removed for Each Month Over 10 Years')\n",
    "plt.xlabel('Months')\n",
    "plt.ylabel('Total Number of Flats')\n",
    "\n",
    "month_names = ['Jan', 'Feb', 'Mar', 'Apr', 'May', 'Jun', 'Jul', 'Aug', 'Sep', 'Oct', 'Nov', 'Dec']\n",
    "plt.xticks(difference['month'], month_names, rotation='vertical')\n",
    "plt.legend()\n",
    "plt.show()\n",
    "\n",
    "difference\n"
   ]
  },
  {
   "cell_type": "code",
   "execution_count": 35,
   "metadata": {},
   "outputs": [
    {
     "data": {
      "image/png": "[encoded data removed]",
      "text/plain": [
       "<Figure size 234x144.62 with 1 Axes>"
      ]
     },
     "metadata": {
      "needs_background": "light"
     },
     "output_type": "display_data"
    }
   ],
   "source": [
    "df['year'] = df['startdate'].str[:4] \n",
    "df[\"month\"] = pd.DatetimeIndex(df['startdate']).month\n",
    "monthly_counts = df.groupby(['year', 'month']).size().reset_index(name='count')\n",
    "\n",
    "monthly_counts_summed = monthly_counts.groupby('month')['count'].sum().reset_index(name='total_count')\n",
    "\n",
    "plt.rcParams.update(bundles.icml2022(column='half', nrows=2, ncols=2, usetex=False))\n",
    "fig, axs = plt.subplots(1, 1)\n",
    "\n",
    "#plt.figure(figsize=(15, 8))\n",
    "plt.bar(monthly_counts_summed['month'], monthly_counts_summed['total_count'], color='blue')\n",
    "\n",
    "plt.title('Total Number of Flats Listed for Each Month Over 10 Years')\n",
    "plt.xlabel('Months')\n",
    "plt.ylabel('Total Number of Flats Listed')\n",
    "\n",
    "month_names = ['Jan', 'Feb', 'Mar', 'Apr', 'May', 'Jun', 'Jul', 'Aug', 'Sep', 'Oct', 'Nov', 'Dec']\n",
    "plt.xticks(monthly_counts_summed['month'], month_names, rotation='vertical')\n",
    "\n",
    "plt.show()"
   ]
  },
  {
   "cell_type": "markdown",
   "metadata": {},
   "source": [
    "## In welchen Monaten werden Inserate am öftesten rausgenommen?"
   ]
  },
  {
   "cell_type": "code",
   "execution_count": 36,
   "metadata": {},
   "outputs": [
    {
     "data": {
      "image/png": "[encoded data removed]",
      "text/plain": [
       "<Figure size 234x144.62 with 1 Axes>"
      ]
     },
     "metadata": {
      "needs_background": "light"
     },
     "output_type": "display_data"
    }
   ],
   "source": [
    "df['year'] = df['enddate'].str[:4] \n",
    "df[\"month\"] = pd.DatetimeIndex(df['enddate']).month\n",
    "monthly_counts = df.groupby(['year', 'month']).size().reset_index(name='count')\n",
    "\n",
    "monthly_counts_summed = monthly_counts.groupby('month')['count'].sum().reset_index(name='total_count')\n",
    "\n",
    "#plt.figure(figsize=(15, 8))\n",
    "plt.bar(monthly_counts_summed['month'], monthly_counts_summed['total_count'], color='blue')\n",
    "\n",
    "plt.title('Total Number of Flats Listed for Each Month Over 10 Years')\n",
    "plt.xlabel('Months')\n",
    "plt.ylabel('Total Number of Flats Listed')\n",
    "\n",
    "month_names = ['Jan', 'Feb', 'Mar', 'Apr', 'May', 'Jun', 'Jul', 'Aug', 'Sep', 'Oct', 'Nov', 'Dec']\n",
    "plt.xticks(monthly_counts_summed['month'], month_names, rotation='vertical')\n",
    "\n",
    "plt.show()"
   ]
  },
  {
   "cell_type": "code",
   "execution_count": 37,
   "metadata": {},
   "outputs": [
    {
     "data": {
      "image/png": "[encoded data removed]",
      "text/plain": [
       "<Figure size 486x150.182 with 1 Axes>"
      ]
     },
     "metadata": {
      "needs_background": "light"
     },
     "output_type": "display_data"
    }
   ],
   "source": [
    "months = monthly_counts_summed['month']\n",
    "bar_width = 0.4\n",
    "bar_positions_added = months - bar_width/2\n",
    "bar_positions_removed = months + bar_width/2\n",
    "\n",
    "plt.rcParams.update(bundles.icml2022(column='full', nrows=1, ncols=2, usetex=False))\n",
    "fig, axs = plt.subplots(1, 1)\n",
    "\n",
    "plt.bar(bar_positions_added, monthly_counts_summed['total_count'], width=bar_width, color='blue', alpha=0.7, label='Added')\n",
    "plt.bar(bar_positions_removed, monthly_removed_counts_summed['total_removed_count'], width=bar_width, color='red', alpha=0.7, label='Removed')\n",
    "\n",
    "plt.title('Total Number of Flats Listed and Removed for Each Month Over 10 Years')\n",
    "plt.xlabel('Months')\n",
    "plt.ylabel('Total Number of Flats')\n",
    "plt.xticks(months, ['Jan', 'Feb', 'Mar', 'Apr', 'May', 'Jun', 'Jul', 'Aug', 'Sep', 'Oct', 'Nov', 'Dec'])\n",
    "\n",
    "plt.legend()\n",
    "plt.show()"
   ]
  },
  {
   "cell_type": "markdown",
   "metadata": {},
   "source": [
    "## Welche Inserate bleiben wie lange drin?"
   ]
  },
  {
   "cell_type": "code",
   "execution_count": 38,
   "metadata": {},
   "outputs": [
    {
     "name": "stdout",
     "output_type": "stream",
     "text": [
      "       startdate    enddate  duration_days\n",
      "1     2023-12-31 2024-01-07              7\n",
      "21    2023-12-30 2023-12-31              1\n",
      "27    2023-12-30 2024-01-04              5\n",
      "28    2023-12-30 2024-01-01              2\n",
      "36    2023-12-29 2024-01-05              7\n",
      "...          ...        ...            ...\n",
      "92547 2011-03-16 2012-01-05            295\n",
      "92548 2011-02-18 2012-12-23            674\n",
      "92549 2011-02-11 2012-01-19            342\n",
      "92550 2011-02-11 2012-12-30            688\n",
      "92551 2009-09-02 2014-05-15           1716\n",
      "\n",
      "[91812 rows x 3 columns]\n"
     ]
    },
    {
     "data": {
      "image/png": "[encoded data removed]",
      "text/plain": [
       "<Figure size 1800x1440 with 1 Axes>"
      ]
     },
     "metadata": {
      "needs_background": "light"
     },
     "output_type": "display_data"
    }
   ],
   "source": [
    "df= df.dropna(subset=['startdate', 'enddate'])\n",
    "\n",
    "df['startdate'] = pd.to_datetime(df['startdate'])\n",
    "df['enddate'] = pd.to_datetime(df['enddate'])\n",
    "\n",
    "df['duration'] = df['enddate'] - df['startdate']\n",
    "df['duration_days'] = df['duration'].dt.days\n",
    "\n",
    "print(df[['startdate', 'enddate', 'duration_days']])\n",
    "plt.subplots(figsize=(25, 20))\n",
    "sns.histplot(data=df, x=\"duration_days\")\n",
    "plt.yscale('log')"
   ]
  }
 ],
 "metadata": {
  "kernelspec": {
   "display_name": "Python 3",
   "language": "python",
   "name": "python3"
  },
  "language_info": {
   "codemirror_mode": {
    "name": "ipython",
    "version": 3
   },
   "file_extension": ".py",
   "mimetype": "text/x-python",
   "name": "python",
   "nbconvert_exporter": "python",
   "pygments_lexer": "ipython3",
   "version": "3.9.13"
  }
 },
 "nbformat": 4,
 "nbformat_minor": 2
}
